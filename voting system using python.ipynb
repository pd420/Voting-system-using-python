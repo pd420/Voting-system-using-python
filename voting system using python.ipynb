{
 "cells": [
  {
   "cell_type": "markdown",
   "metadata": {},
   "source": [
    "### Project on voting system using python "
   ]
  },
  {
   "cell_type": "code",
   "execution_count": 18,
   "metadata": {},
   "outputs": [
    {
     "name": "stdout",
     "output_type": "stream",
     "text": [
      "enter the nominee 1 name : X\n"
     ]
    }
   ],
   "source": [
    "    Nominee_1 =input(\"enter the nominee 1 name : \")"
   ]
  },
  {
   "cell_type": "code",
   "execution_count": 19,
   "metadata": {},
   "outputs": [
    {
     "name": "stdout",
     "output_type": "stream",
     "text": [
      "enter the nominee 2 name : Y\n"
     ]
    }
   ],
   "source": [
    "    Nominee_2 =input(\"enter the nominee 2 name : \")"
   ]
  },
  {
   "cell_type": "code",
   "execution_count": 20,
   "metadata": {},
   "outputs": [],
   "source": [
    "#variables storing total number of votes for both nominee's :\n",
    "no_of_votes_for_nominee_1 =0\n",
    "no_of_votes_for_nominee_2 =0"
   ]
  },
  {
   "cell_type": "code",
   "execution_count": 21,
   "metadata": {},
   "outputs": [
    {
     "data": {
      "text/plain": [
       "10"
      ]
     },
     "execution_count": 21,
     "metadata": {},
     "output_type": "execute_result"
    }
   ],
   "source": [
    "#total number of voters & total vote id's :\n",
    "Vote_id = [1,2,3,4,5,6,7,8,9,10]\n",
    "Tot_num_of_voter =len(Vote_id)\n",
    "Tot_num_of_voter"
   ]
  },
  {
   "cell_type": "code",
   "execution_count": 22,
   "metadata": {},
   "outputs": [
    {
     "name": "stdout",
     "output_type": "stream",
     "text": [
      "Please enter your voter id no :1\n",
      "You are a valid voter, please complete the voting process\n",
      "if you want to vote for nominee_1 then press 1 else if you want to vote for nominee_2 then press 2 :1\n",
      "Thank you for casting your vote your vote has been counted , please wait for result\n",
      "Please enter your voter id no :2\n",
      "You are a valid voter, please complete the voting process\n",
      "if you want to vote for nominee_1 then press 1 else if you want to vote for nominee_2 then press 2 :1\n",
      "Thank you for casting your vote your vote has been counted , please wait for result\n",
      "Please enter your voter id no :3\n",
      "You are a valid voter, please complete the voting process\n",
      "if you want to vote for nominee_1 then press 1 else if you want to vote for nominee_2 then press 2 :1\n",
      "Thank you for casting your vote your vote has been counted , please wait for result\n",
      "Please enter your voter id no :4\n",
      "You are a valid voter, please complete the voting process\n",
      "if you want to vote for nominee_1 then press 1 else if you want to vote for nominee_2 then press 2 :2\n",
      "Thank you for casting your vote your vote has been counted , please wait for result\n",
      "Please enter your voter id no :5\n",
      "You are a valid voter, please complete the voting process\n",
      "if you want to vote for nominee_1 then press 1 else if you want to vote for nominee_2 then press 2 :2\n",
      "Thank you for casting your vote your vote has been counted , please wait for result\n",
      "Please enter your voter id no :6\n",
      "You are a valid voter, please complete the voting process\n",
      "if you want to vote for nominee_1 then press 1 else if you want to vote for nominee_2 then press 2 :2\n",
      "Thank you for casting your vote your vote has been counted , please wait for result\n",
      "Please enter your voter id no :7\n",
      "You are a valid voter, please complete the voting process\n",
      "if you want to vote for nominee_1 then press 1 else if you want to vote for nominee_2 then press 2 :1\n",
      "Thank you for casting your vote your vote has been counted , please wait for result\n",
      "Please enter your voter id no :8\n",
      "You are a valid voter, please complete the voting process\n",
      "if you want to vote for nominee_1 then press 1 else if you want to vote for nominee_2 then press 2 :2\n",
      "Thank you for casting your vote your vote has been counted , please wait for result\n",
      "Please enter your voter id no :9\n",
      "You are a valid voter, please complete the voting process\n",
      "if you want to vote for nominee_1 then press 1 else if you want to vote for nominee_2 then press 2 :1\n",
      "Thank you for casting your vote your vote has been counted , please wait for result\n",
      "Please enter your voter id no :20\n",
      "Please enter your voter id no :10\n",
      "You are a valid voter, please complete the voting process\n",
      "if you want to vote for nominee_1 then press 1 else if you want to vote for nominee_2 then press 2 :2\n",
      "Thank you for casting your vote your vote has been counted , please wait for result\n",
      "Voting Session has been ended please wait for the results to be declared\n",
      "X Y has equal votes its a draw\n"
     ]
    }
   ],
   "source": [
    "while True:\n",
    "    if Vote_id ==[] :                 #if the list become empty the voting session will end \n",
    "        print(\"Voting Session has been ended\", \"please wait for the results to be declared\")\n",
    "        if no_of_votes_for_nominee_1 > no_of_votes_for_nominee_2 :  \n",
    "            \n",
    "                                      #if nominee1 gets more votes than nominee2 than nominee1 will be winner\n",
    "            \n",
    "            percent = (no_of_votes_for_nominee_1/Tot_num_of_voter)*100\n",
    "            print(Nominee_1,\"has won the election\",\"with\",percent,\"%  votes\")\n",
    "            break                    #to terminate the infinite loop we will use break\n",
    "            \n",
    "        elif no_of_votes_for_nominee_2 > no_of_votes_for_nominee_1 :\n",
    "            \n",
    "                                      #if nominee2 gets more votes than nominee1 than nominee2 will be winner\n",
    "            \n",
    "            percent = (no_of_votes_for_nominee_2/Tot_num_of_voter)*100\n",
    "            print(Nominee_2,\"has won the election\",\"with\",percent,\"%  votes\")\n",
    "            break                     #to terminate the infinite loop we will use break\n",
    "        \n",
    "        elif no_of_votes_for_nominee_2 == no_of_votes_for_nominee_1 :\n",
    "            \n",
    "                                      #if nominee2 & nominee1 both get equal vote then it will be a draw\n",
    "            print(Nominee_1 , Nominee_2 ,\"has equal votes its a draw\")\n",
    "            break                     #to terminate the infinite loop we will use break  \n",
    "            \n",
    "    else :\n",
    "        voter = int(input(\"Please enter your voter id no :\"))\n",
    "        if voter in Vote_id :\n",
    "            print(\"You are a valid voter, please complete the voting process\")\n",
    "            Vote_id.remove(voter)\n",
    "            vote= int(input(\"if you want to vote for nominee_1 then press 1 else if you want to vote for nominee_2 then press 2 :\"))\n",
    "            if vote==1 :\n",
    "                no_of_votes_for_nominee_1+= 1\n",
    "                print(\"Thank you for casting your vote your vote has been counted , please wait for result\")\n",
    "             \n",
    "            elif vote==2 :\n",
    "                no_of_votes_for_nominee_2+= 1\n",
    "                print(\"Thank you for casting your vote your vote has been counted , please wait for result\")\n",
    "                \n",
    "            else :\n",
    "                print(\"You are not a valid voter, or your vote has already been counted\")"
   ]
  },
  {
   "cell_type": "code",
   "execution_count": null,
   "metadata": {},
   "outputs": [],
   "source": []
  }
 ],
 "metadata": {
  "kernelspec": {
   "display_name": "Python 3",
   "language": "python",
   "name": "python3"
  },
  "language_info": {
   "codemirror_mode": {
    "name": "ipython",
    "version": 3
   },
   "file_extension": ".py",
   "mimetype": "text/x-python",
   "name": "python",
   "nbconvert_exporter": "python",
   "pygments_lexer": "ipython3",
   "version": "3.8.3"
  }
 },
 "nbformat": 4,
 "nbformat_minor": 4
}
